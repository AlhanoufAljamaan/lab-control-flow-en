{
 "cells": [
  {
   "cell_type": "code",
   "execution_count": 13,
   "id": "7e49109e-41a3-4f6d-a1ea-3a6135c1d77c",
   "metadata": {},
   "outputs": [
    {
     "name": "stdout",
     "output_type": "stream",
     "text": [
      "<class 'float'>\n",
      "<class 'str'>\n",
      "<class 'str'>\n",
      "<class 'bool'>\n",
      "<class 'str'>\n",
      "<class 'int'>\n"
     ]
    }
   ],
   "source": [
    "x1 = 1.1 \n",
    "x2 = \"Ironhack\"\n",
    "x3 = \"1.1\" \n",
    "x4 = True\n",
    "x5 = \"True\" \n",
    "x6 = -1 \n",
    "\n",
    "print(type(x1))\n",
    "print(type(x2))\n",
    "print(type(x3))\n",
    "print(type(x4))\n",
    "print(type(x5))\n",
    "print(type(x6))"
   ]
  },
  {
   "cell_type": "code",
   "execution_count": 15,
   "id": "ff729ced-3b42-4eed-8970-42ba9469bcb4",
   "metadata": {},
   "outputs": [
    {
     "name": "stdout",
     "output_type": "stream",
     "text": [
      "<class 'float'>\n",
      "<class 'str'>\n"
     ]
    }
   ],
   "source": [
    "print(type(x1))\n",
    "print(type(x3))"
   ]
  },
  {
   "cell_type": "code",
   "execution_count": 21,
   "id": "2163759f-4b15-4782-bd01-6ce22c3ca1af",
   "metadata": {},
   "outputs": [
    {
     "name": "stdout",
     "output_type": "stream",
     "text": [
      "0.0\n"
     ]
    }
   ],
   "source": [
    "r = float(x3) - x1\n",
    "print(r)"
   ]
  },
  {
   "cell_type": "code",
   "execution_count": 23,
   "id": "4fd197fd-b1c0-4a66-9753-373be4207b89",
   "metadata": {},
   "outputs": [
    {
     "name": "stdout",
     "output_type": "stream",
     "text": [
      "<class 'bool'>\n",
      "<class 'str'>\n"
     ]
    }
   ],
   "source": [
    "print(type(x4))\n",
    "print(type(x5))"
   ]
  },
  {
   "cell_type": "code",
   "execution_count": 25,
   "id": "21ccf7e5-d8f6-4889-a19b-e41469b0d2d0",
   "metadata": {},
   "outputs": [
    {
     "name": "stdout",
     "output_type": "stream",
     "text": [
      "0\n"
     ]
    }
   ],
   "source": [
    "r = bool(x5) - x4 \n",
    "print(r)"
   ]
  },
  {
   "cell_type": "code",
   "execution_count": 39,
   "id": "c50791e9-617a-4809-a41f-a3d31a9380c0",
   "metadata": {},
   "outputs": [
    {
     "name": "stdin",
     "output_type": "stream",
     "text": [
      "enter the first number 22\n",
      "enter the secand number 34\n"
     ]
    },
    {
     "name": "stdout",
     "output_type": "stream",
     "text": [
      "<class 'str'>\n",
      "<class 'str'>\n"
     ]
    }
   ],
   "source": [
    "number1 = input(\"enter the first number\")\n",
    "number2 = input(\"enter the secand number\")\n",
    "\n",
    "print(type(number1))\n",
    "print(type(number2))\n",
    "\n",
    "      "
   ]
  },
  {
   "cell_type": "code",
   "execution_count": 47,
   "id": "a819ae3b-9f5b-4319-ae04-00f00456079d",
   "metadata": {},
   "outputs": [
    {
     "ename": "SyntaxError",
     "evalue": "expected ':' (4055563021.py, line 10)",
     "output_type": "error",
     "traceback": [
      "\u001b[1;36m  Cell \u001b[1;32mIn[47], line 10\u001b[1;36m\u001b[0m\n\u001b[1;33m    else x1 == x2 :\u001b[0m\n\u001b[1;37m         ^\u001b[0m\n\u001b[1;31mSyntaxError\u001b[0m\u001b[1;31m:\u001b[0m expected ':'\n"
     ]
    }
   ],
   "source": [
    "x1 = 1.1 \n",
    "x2 = float(\"Ironhack\")\n",
    "\n",
    "if x1 > x2 :\n",
    "    print(\" x1 greater than x2\")\n",
    "\n",
    "elif x2 > x1 :\n",
    "    print (\" x2 greater than x1 \")\n",
    "\n",
    "else x1 == x2 :\n",
    "    print (\" x1 equal x2 \")"
   ]
  },
  {
   "cell_type": "code",
   "execution_count": 69,
   "id": "0bf7499c-f692-4ed0-9e67-ea06e1f63175",
   "metadata": {},
   "outputs": [
    {
     "name": "stdin",
     "output_type": "stream",
     "text": [
      "enter the first name  Alhanouf\n",
      "enter the second name  Aljamaan\n"
     ]
    },
    {
     "name": "stdout",
     "output_type": "stream",
     "text": [
      " hello   Alhanouf  Aljamaan!\n"
     ]
    }
   ],
   "source": [
    "num1 = input(\"enter the first name \")\n",
    "num2 = input (\"enter the second name \")\n",
    "\n",
    "greeting_message = \" hello   \" + num1 + \"  \" + num2 + \"!\"\n",
    "print(greeting_message)"
   ]
  },
  {
   "cell_type": "code",
   "execution_count": 79,
   "id": "3ca3ee66-f70b-4258-8cc3-94235a3f6095",
   "metadata": {},
   "outputs": [
    {
     "ename": "SyntaxError",
     "evalue": "unterminated string literal (detected at line 11) (2959108601.py, line 11)",
     "output_type": "error",
     "traceback": [
      "\u001b[1;36m  Cell \u001b[1;32mIn[79], line 11\u001b[1;36m\u001b[0m\n\u001b[1;33m    print(\"number 1 equal number 2 )\u001b[0m\n\u001b[1;37m          ^\u001b[0m\n\u001b[1;31mSyntaxError\u001b[0m\u001b[1;31m:\u001b[0m unterminated string literal (detected at line 11)\n"
     ]
    }
   ],
   "source": [
    "num1 = input(\"enter the first number \")\n",
    "num2 = input(\"enter the second number \")\n",
    "\n",
    "if num1 > num2 :\n",
    "    print(\"number 1 greater than 2 \")\n",
    "\n",
    "elif num1 < num2 :\n",
    "    print (\"number 2 greater than number 1\")\n",
    "\n",
    "else :\n",
    "    print(\"number 1 equal number 2 )\n"
   ]
  },
  {
   "cell_type": "code",
   "execution_count": null,
   "id": "d5b59a59-2884-49bc-b50a-d751026b9400",
   "metadata": {},
   "outputs": [],
   "source": []
  }
 ],
 "metadata": {
  "kernelspec": {
   "display_name": "Python [conda env:base] *",
   "language": "python",
   "name": "conda-base-py"
  },
  "language_info": {
   "codemirror_mode": {
    "name": "ipython",
    "version": 3
   },
   "file_extension": ".py",
   "mimetype": "text/x-python",
   "name": "python",
   "nbconvert_exporter": "python",
   "pygments_lexer": "ipython3",
   "version": "3.12.7"
  }
 },
 "nbformat": 4,
 "nbformat_minor": 5
}
